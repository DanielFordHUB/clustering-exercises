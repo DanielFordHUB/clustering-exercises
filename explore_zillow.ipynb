{
 "cells": [
  {
   "cell_type": "code",
   "execution_count": 1,
   "id": "4ffc3ced",
   "metadata": {},
   "outputs": [],
   "source": [
    "import pandas as pd\n",
    "import numpy as np\n",
    "import matplotlib.pyplot as plt\n",
    "import seaborn as sns\n",
    "\n",
    "from sklearn.model_selection import train_test_split\n",
    "import wrangle_zillow as wg\n",
    "\n",
    "# ignore warnings\n",
    "import warnings\n",
    "warnings.filterwarnings(\"ignore\")"
   ]
  },
  {
   "cell_type": "code",
   "execution_count": 2,
   "id": "b7c4f69f",
   "metadata": {},
   "outputs": [],
   "source": [
    "df = wg.acquire()"
   ]
  },
  {
   "cell_type": "code",
   "execution_count": 4,
   "id": "2c6a6267",
   "metadata": {},
   "outputs": [],
   "source": [
    "df = wg.handle_missing_values(df, 0.5, 0.5)"
   ]
  },
  {
   "cell_type": "code",
   "execution_count": null,
   "id": "ba5d98ac",
   "metadata": {},
   "outputs": [],
   "source": []
  },
  {
   "cell_type": "code",
   "execution_count": null,
   "id": "c9f2e264",
   "metadata": {},
   "outputs": [],
   "source": []
  },
  {
   "cell_type": "code",
   "execution_count": 5,
   "id": "1602e429",
   "metadata": {
    "scrolled": false
   },
   "outputs": [
    {
     "name": "stdout",
     "output_type": "stream",
     "text": [
      "--- Shape: (43346, 34)\n",
      "\n",
      "--- Info\n",
      "<class 'pandas.core.frame.DataFrame'>\n",
      "Int64Index: 43346 entries, 1 to 52318\n",
      "Data columns (total 34 columns):\n",
      " #   Column                        Non-Null Count  Dtype  \n",
      "---  ------                        --------------  -----  \n",
      " 0   id                            43346 non-null  int64  \n",
      " 1   parcelid                      43346 non-null  int64  \n",
      " 2   bathroomcnt                   43346 non-null  float64\n",
      " 3   bedroomcnt                    43346 non-null  float64\n",
      " 4   buildingqualitytypeid         32934 non-null  float64\n",
      " 5   calculatedbathnbr             43337 non-null  float64\n",
      " 6   calculatedfinishedsquarefeet  43346 non-null  float64\n",
      " 7   finishedsquarefeet12          43338 non-null  float64\n",
      " 8   fips                          43346 non-null  float64\n",
      " 9   fullbathcnt                   43337 non-null  float64\n",
      " 10  heatingorsystemtypeid         33561 non-null  float64\n",
      " 11  latitude                      43346 non-null  float64\n",
      " 12  longitude                     43346 non-null  float64\n",
      " 13  lotsizesquarefeet             43084 non-null  float64\n",
      " 14  propertycountylandusecode     43346 non-null  object \n",
      " 15  propertylandusetypeid         43346 non-null  float64\n",
      " 16  propertyzoningdesc            32983 non-null  object \n",
      " 17  rawcensustractandblock        43346 non-null  float64\n",
      " 18  regionidcity                  42800 non-null  float64\n",
      " 19  regionidcounty                43346 non-null  float64\n",
      " 20  regionidzip                   43342 non-null  float64\n",
      " 21  roomcnt                       43346 non-null  float64\n",
      " 22  unitcnt                       33019 non-null  float64\n",
      " 23  yearbuilt                     43327 non-null  float64\n",
      " 24  structuretaxvaluedollarcnt    43307 non-null  float64\n",
      " 25  taxvaluedollarcnt             43346 non-null  float64\n",
      " 26  assessmentyear                43346 non-null  float64\n",
      " 27  landtaxvaluedollarcnt         43346 non-null  float64\n",
      " 28  taxamount                     43344 non-null  float64\n",
      " 29  censustractandblock           43304 non-null  float64\n",
      " 30  logerror                      43346 non-null  float64\n",
      " 31  transactiondate               43346 non-null  object \n",
      " 32  heatingorsystemdesc           33561 non-null  object \n",
      " 33  propertylandusedesc           43346 non-null  object \n",
      "dtypes: float64(27), int64(2), object(5)\n",
      "memory usage: 11.6+ MB\n",
      "\n",
      "--- Column Descriptions\n",
      "                  id      parcelid   bathroomcnt    bedroomcnt  \\\n",
      "count   4.334600e+04  4.334600e+04  43346.000000  43346.000000   \n",
      "unique           NaN           NaN           NaN           NaN   \n",
      "top              NaN           NaN           NaN           NaN   \n",
      "freq             NaN           NaN           NaN           NaN   \n",
      "mean    1.497939e+06  1.274048e+07      2.302554      3.308840   \n",
      "std     8.607141e+05  2.537240e+06      1.043841      0.937652   \n",
      "min     3.490000e+02  1.071186e+07      0.000000      0.000000   \n",
      "25%     7.574682e+05  1.131822e+07      2.000000      3.000000   \n",
      "50%     1.500634e+06  1.227170e+07      2.000000      3.000000   \n",
      "75%     2.245456e+06  1.306932e+07      3.000000      4.000000   \n",
      "max     2.982167e+06  1.676367e+08     18.000000     14.000000   \n",
      "\n",
      "        buildingqualitytypeid  calculatedbathnbr  \\\n",
      "count            32934.000000       43337.000000   \n",
      "unique                    NaN                NaN   \n",
      "top                       NaN                NaN   \n",
      "freq                      NaN                NaN   \n",
      "mean                 6.293466           2.303032   \n",
      "std                  1.710757           1.043422   \n",
      "min                  1.000000           1.000000   \n",
      "25%                  5.000000           2.000000   \n",
      "50%                  6.000000           2.000000   \n",
      "75%                  8.000000           3.000000   \n",
      "max                 12.000000          18.000000   \n",
      "\n",
      "        calculatedfinishedsquarefeet  finishedsquarefeet12          fips  \\\n",
      "count                   43346.000000          43338.000000  43346.000000   \n",
      "unique                           NaN                   NaN           NaN   \n",
      "top                              NaN                   NaN           NaN   \n",
      "freq                             NaN                   NaN           NaN   \n",
      "mean                     1929.966248           1929.869237   6047.402805   \n",
      "std                      1031.625850           1031.630746     22.439640   \n",
      "min                       152.000000            152.000000   6037.000000   \n",
      "25%                      1263.000000           1263.000000   6037.000000   \n",
      "50%                      1653.000000           1653.000000   6037.000000   \n",
      "75%                      2305.000000           2305.000000   6037.000000   \n",
      "max                     21929.000000          21929.000000   6111.000000   \n",
      "\n",
      "         fullbathcnt  ...  structuretaxvaluedollarcnt  taxvaluedollarcnt  \\\n",
      "count   43337.000000  ...                4.330700e+04       4.334600e+04   \n",
      "unique           NaN  ...                         NaN                NaN   \n",
      "top              NaN  ...                         NaN                NaN   \n",
      "freq             NaN  ...                         NaN                NaN   \n",
      "mean        2.253755  ...                1.991791e+05       5.272409e+05   \n",
      "std         1.022008  ...                2.616104e+05       7.834896e+05   \n",
      "min         1.000000  ...                1.810000e+02       1.000000e+03   \n",
      "25%         2.000000  ...                8.109000e+04       1.891480e+05   \n",
      "50%         2.000000  ...                1.352200e+05       3.629755e+05   \n",
      "75%         3.000000  ...                2.241680e+05       6.033130e+05   \n",
      "max        18.000000  ...                9.164901e+06       4.906124e+07   \n",
      "\n",
      "        assessmentyear  landtaxvaluedollarcnt      taxamount  \\\n",
      "count          43346.0           4.334600e+04   43344.000000   \n",
      "unique             NaN                    NaN            NaN   \n",
      "top                NaN                    NaN            NaN   \n",
      "freq               NaN                    NaN            NaN   \n",
      "mean            2016.0           3.282411e+05    6463.699979   \n",
      "std                0.0           5.943922e+05    9148.665227   \n",
      "min             2016.0           1.610000e+02      49.180000   \n",
      "25%             2016.0           6.915400e+04    2637.255000   \n",
      "50%             2016.0           2.070215e+05    4579.825000   \n",
      "75%             2016.0           3.928922e+05    7271.850000   \n",
      "max             2016.0           4.895220e+07  586639.300000   \n",
      "\n",
      "        censustractandblock      logerror  transactiondate  \\\n",
      "count          4.330400e+04  43346.000000            43346   \n",
      "unique                  NaN           NaN              253   \n",
      "top                     NaN           NaN       2017-06-30   \n",
      "freq                    NaN           NaN              686   \n",
      "mean           6.048733e+13      0.015958              NaN   \n",
      "std            2.042748e+12      0.171160              NaN   \n",
      "min            6.037101e+13     -4.655420              NaN   \n",
      "25%            6.037295e+13     -0.026467              NaN   \n",
      "50%            6.037551e+13      0.006346              NaN   \n",
      "75%            6.037920e+13      0.040787              NaN   \n",
      "max            4.830301e+14      5.262999              NaN   \n",
      "\n",
      "        heatingorsystemdesc        propertylandusedesc  \n",
      "count                 33561                      43346  \n",
      "unique                    8                          1  \n",
      "top                 Central  Single Family Residential  \n",
      "freq                  20575                      43346  \n",
      "mean                    NaN                        NaN  \n",
      "std                     NaN                        NaN  \n",
      "min                     NaN                        NaN  \n",
      "25%                     NaN                        NaN  \n",
      "50%                     NaN                        NaN  \n",
      "75%                     NaN                        NaN  \n",
      "max                     NaN                        NaN  \n",
      "\n",
      "[11 rows x 34 columns]\n"
     ]
    }
   ],
   "source": [
    "wg.overview(df)"
   ]
  },
  {
   "cell_type": "code",
   "execution_count": null,
   "id": "77a4ff61",
   "metadata": {},
   "outputs": [],
   "source": [
    "\n",
    "sns.boxplot(data=df, x='fips', y='logerror')\n",
    "plt.show()"
   ]
  },
  {
   "cell_type": "code",
   "execution_count": null,
   "id": "3146e526",
   "metadata": {},
   "outputs": [],
   "source": [
    "def train_validate_test_split(df, test_size=.2, validate_size=.3, random_state=99):\n",
    "    '''\n",
    "    This function takes in a dataframe, then splits that dataframe into three separate samples\n",
    "    called train, test, and validate, for use in machine learning modeling.\n",
    "    Three dataframes are returned in the following order: train, test, validate. \n",
    "    \n",
    "    The function also prints the size of each sample.\n",
    "    '''\n",
    "    # split the dataframe into train and test\n",
    "    train, test = train_test_split(df, test_size=.2, random_state=99)\n",
    "    # further split the train dataframe into train and validate\n",
    "    train, validate = train_test_split(train, test_size=.3, random_state=99)\n",
    "    # print the sample size of each resulting dataframe\n",
    "    print(f'train\\t n = {train.shape[0]}')\n",
    "    print(f'test\\t n = {test.shape[0]}')\n",
    "    print(f'validate n = {validate.shape[0]}')\n",
    "\n",
    "    return train, validate, test"
   ]
  },
  {
   "cell_type": "code",
   "execution_count": null,
   "id": "56766d9c",
   "metadata": {},
   "outputs": [],
   "source": [
    "train, validate, test = train_validate_test_split(df)"
   ]
  },
  {
   "cell_type": "code",
   "execution_count": null,
   "id": "1d1a88e0",
   "metadata": {},
   "outputs": [],
   "source": [
    "train_sample = train.sample(n=10000)"
   ]
  },
  {
   "cell_type": "code",
   "execution_count": null,
   "id": "beffb98b",
   "metadata": {},
   "outputs": [],
   "source": [
    "import plotly as px"
   ]
  },
  {
   "cell_type": "code",
   "execution_count": null,
   "id": "ad338d4d",
   "metadata": {},
   "outputs": [],
   "source": [
    "# visualize\n",
    "sns.boxplot(data=train, x='fips', y='logerror')\n",
    "plt.show()"
   ]
  },
  {
   "cell_type": "code",
   "execution_count": null,
   "id": "28d2bae5",
   "metadata": {},
   "outputs": [],
   "source": []
  }
 ],
 "metadata": {
  "kernelspec": {
   "display_name": "Python 3 (ipykernel)",
   "language": "python",
   "name": "python3"
  },
  "language_info": {
   "codemirror_mode": {
    "name": "ipython",
    "version": 3
   },
   "file_extension": ".py",
   "mimetype": "text/x-python",
   "name": "python",
   "nbconvert_exporter": "python",
   "pygments_lexer": "ipython3",
   "version": "3.9.12"
  }
 },
 "nbformat": 4,
 "nbformat_minor": 5
}
