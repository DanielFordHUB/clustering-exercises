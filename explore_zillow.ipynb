{
 "cells": [
  {
   "cell_type": "code",
   "execution_count": 25,
   "id": "17755121",
   "metadata": {},
   "outputs": [],
   "source": [
    "import pandas as pd\n",
    "import numpy as np\n",
    "import matplotlib.pyplot as plt\n",
    "import seaborn as sns\n",
    "import scipy as stats\n",
    "\n",
    "from sklearn.model_selection import train_test_split\n",
    "import wrangle_zillow as wg\n",
    "\n",
    "# ignore warnings\n",
    "import warnings\n",
    "warnings.filterwarnings(\"ignore\")"
   ]
  },
  {
   "cell_type": "code",
   "execution_count": 2,
   "id": "13369bd1",
   "metadata": {},
   "outputs": [],
   "source": [
    "df = wg.acquire()"
   ]
  },
  {
   "cell_type": "code",
   "execution_count": 3,
   "id": "4cd8d827",
   "metadata": {},
   "outputs": [
    {
     "data": {
      "text/html": [
       "<div>\n",
       "<style scoped>\n",
       "    .dataframe tbody tr th:only-of-type {\n",
       "        vertical-align: middle;\n",
       "    }\n",
       "\n",
       "    .dataframe tbody tr th {\n",
       "        vertical-align: top;\n",
       "    }\n",
       "\n",
       "    .dataframe thead th {\n",
       "        text-align: right;\n",
       "    }\n",
       "</style>\n",
       "<table border=\"1\" class=\"dataframe\">\n",
       "  <thead>\n",
       "    <tr style=\"text-align: right;\">\n",
       "      <th></th>\n",
       "      <th>id</th>\n",
       "      <th>parcelid</th>\n",
       "      <th>airconditioningtypeid</th>\n",
       "      <th>architecturalstyletypeid</th>\n",
       "      <th>basementsqft</th>\n",
       "      <th>bathroomcnt</th>\n",
       "      <th>bedroomcnt</th>\n",
       "      <th>buildingclasstypeid</th>\n",
       "      <th>buildingqualitytypeid</th>\n",
       "      <th>calculatedbathnbr</th>\n",
       "      <th>...</th>\n",
       "      <th>censustractandblock</th>\n",
       "      <th>logerror</th>\n",
       "      <th>transactiondate</th>\n",
       "      <th>airconditioningdesc</th>\n",
       "      <th>architecturalstyledesc</th>\n",
       "      <th>buildingclassdesc</th>\n",
       "      <th>heatingorsystemdesc</th>\n",
       "      <th>propertylandusedesc</th>\n",
       "      <th>storydesc</th>\n",
       "      <th>typeconstructiondesc</th>\n",
       "    </tr>\n",
       "  </thead>\n",
       "  <tbody>\n",
       "    <tr>\n",
       "      <th>0</th>\n",
       "      <td>1727539</td>\n",
       "      <td>14297519</td>\n",
       "      <td>NaN</td>\n",
       "      <td>NaN</td>\n",
       "      <td>NaN</td>\n",
       "      <td>3.5</td>\n",
       "      <td>4.0</td>\n",
       "      <td>NaN</td>\n",
       "      <td>NaN</td>\n",
       "      <td>3.5</td>\n",
       "      <td>...</td>\n",
       "      <td>6.059063e+13</td>\n",
       "      <td>0.025595</td>\n",
       "      <td>2017-01-01</td>\n",
       "      <td>NaN</td>\n",
       "      <td>NaN</td>\n",
       "      <td>NaN</td>\n",
       "      <td>NaN</td>\n",
       "      <td>Single Family Residential</td>\n",
       "      <td>NaN</td>\n",
       "      <td>NaN</td>\n",
       "    </tr>\n",
       "    <tr>\n",
       "      <th>1</th>\n",
       "      <td>1387261</td>\n",
       "      <td>17052889</td>\n",
       "      <td>NaN</td>\n",
       "      <td>NaN</td>\n",
       "      <td>NaN</td>\n",
       "      <td>1.0</td>\n",
       "      <td>2.0</td>\n",
       "      <td>NaN</td>\n",
       "      <td>NaN</td>\n",
       "      <td>1.0</td>\n",
       "      <td>...</td>\n",
       "      <td>6.111001e+13</td>\n",
       "      <td>0.055619</td>\n",
       "      <td>2017-01-01</td>\n",
       "      <td>NaN</td>\n",
       "      <td>NaN</td>\n",
       "      <td>NaN</td>\n",
       "      <td>NaN</td>\n",
       "      <td>Single Family Residential</td>\n",
       "      <td>NaN</td>\n",
       "      <td>NaN</td>\n",
       "    </tr>\n",
       "    <tr>\n",
       "      <th>2</th>\n",
       "      <td>11677</td>\n",
       "      <td>14186244</td>\n",
       "      <td>NaN</td>\n",
       "      <td>NaN</td>\n",
       "      <td>NaN</td>\n",
       "      <td>2.0</td>\n",
       "      <td>3.0</td>\n",
       "      <td>NaN</td>\n",
       "      <td>NaN</td>\n",
       "      <td>2.0</td>\n",
       "      <td>...</td>\n",
       "      <td>6.059022e+13</td>\n",
       "      <td>0.005383</td>\n",
       "      <td>2017-01-01</td>\n",
       "      <td>NaN</td>\n",
       "      <td>NaN</td>\n",
       "      <td>NaN</td>\n",
       "      <td>NaN</td>\n",
       "      <td>Single Family Residential</td>\n",
       "      <td>NaN</td>\n",
       "      <td>NaN</td>\n",
       "    </tr>\n",
       "    <tr>\n",
       "      <th>3</th>\n",
       "      <td>2288172</td>\n",
       "      <td>12177905</td>\n",
       "      <td>NaN</td>\n",
       "      <td>NaN</td>\n",
       "      <td>NaN</td>\n",
       "      <td>3.0</td>\n",
       "      <td>4.0</td>\n",
       "      <td>NaN</td>\n",
       "      <td>8.0</td>\n",
       "      <td>3.0</td>\n",
       "      <td>...</td>\n",
       "      <td>6.037300e+13</td>\n",
       "      <td>-0.103410</td>\n",
       "      <td>2017-01-01</td>\n",
       "      <td>NaN</td>\n",
       "      <td>NaN</td>\n",
       "      <td>NaN</td>\n",
       "      <td>Central</td>\n",
       "      <td>Single Family Residential</td>\n",
       "      <td>NaN</td>\n",
       "      <td>NaN</td>\n",
       "    </tr>\n",
       "    <tr>\n",
       "      <th>4</th>\n",
       "      <td>781532</td>\n",
       "      <td>12095076</td>\n",
       "      <td>1.0</td>\n",
       "      <td>NaN</td>\n",
       "      <td>NaN</td>\n",
       "      <td>3.0</td>\n",
       "      <td>4.0</td>\n",
       "      <td>NaN</td>\n",
       "      <td>9.0</td>\n",
       "      <td>3.0</td>\n",
       "      <td>...</td>\n",
       "      <td>6.037461e+13</td>\n",
       "      <td>-0.001011</td>\n",
       "      <td>2017-01-01</td>\n",
       "      <td>Central</td>\n",
       "      <td>NaN</td>\n",
       "      <td>NaN</td>\n",
       "      <td>Central</td>\n",
       "      <td>Single Family Residential</td>\n",
       "      <td>NaN</td>\n",
       "      <td>NaN</td>\n",
       "    </tr>\n",
       "  </tbody>\n",
       "</table>\n",
       "<p>5 rows × 68 columns</p>\n",
       "</div>"
      ],
      "text/plain": [
       "        id  parcelid  airconditioningtypeid  architecturalstyletypeid  \\\n",
       "0  1727539  14297519                    NaN                       NaN   \n",
       "1  1387261  17052889                    NaN                       NaN   \n",
       "2    11677  14186244                    NaN                       NaN   \n",
       "3  2288172  12177905                    NaN                       NaN   \n",
       "4   781532  12095076                    1.0                       NaN   \n",
       "\n",
       "   basementsqft  bathroomcnt  bedroomcnt  buildingclasstypeid  \\\n",
       "0           NaN          3.5         4.0                  NaN   \n",
       "1           NaN          1.0         2.0                  NaN   \n",
       "2           NaN          2.0         3.0                  NaN   \n",
       "3           NaN          3.0         4.0                  NaN   \n",
       "4           NaN          3.0         4.0                  NaN   \n",
       "\n",
       "   buildingqualitytypeid  calculatedbathnbr  ...  censustractandblock  \\\n",
       "0                    NaN                3.5  ...         6.059063e+13   \n",
       "1                    NaN                1.0  ...         6.111001e+13   \n",
       "2                    NaN                2.0  ...         6.059022e+13   \n",
       "3                    8.0                3.0  ...         6.037300e+13   \n",
       "4                    9.0                3.0  ...         6.037461e+13   \n",
       "\n",
       "   logerror  transactiondate  airconditioningdesc  architecturalstyledesc  \\\n",
       "0  0.025595       2017-01-01                  NaN                     NaN   \n",
       "1  0.055619       2017-01-01                  NaN                     NaN   \n",
       "2  0.005383       2017-01-01                  NaN                     NaN   \n",
       "3 -0.103410       2017-01-01                  NaN                     NaN   \n",
       "4 -0.001011       2017-01-01              Central                     NaN   \n",
       "\n",
       "   buildingclassdesc  heatingorsystemdesc        propertylandusedesc  \\\n",
       "0                NaN                  NaN  Single Family Residential   \n",
       "1                NaN                  NaN  Single Family Residential   \n",
       "2                NaN                  NaN  Single Family Residential   \n",
       "3                NaN              Central  Single Family Residential   \n",
       "4                NaN              Central  Single Family Residential   \n",
       "\n",
       "   storydesc  typeconstructiondesc  \n",
       "0        NaN                   NaN  \n",
       "1        NaN                   NaN  \n",
       "2        NaN                   NaN  \n",
       "3        NaN                   NaN  \n",
       "4        NaN                   NaN  \n",
       "\n",
       "[5 rows x 68 columns]"
      ]
     },
     "execution_count": 3,
     "metadata": {},
     "output_type": "execute_result"
    }
   ],
   "source": [
    "df.head()"
   ]
  },
  {
   "cell_type": "code",
   "execution_count": 4,
   "id": "1bb1112f",
   "metadata": {},
   "outputs": [],
   "source": [
    "df = wg.handle_missing_values(df, 0.5, 0.5)"
   ]
  },
  {
   "cell_type": "code",
   "execution_count": 5,
   "id": "45a6345f",
   "metadata": {},
   "outputs": [],
   "source": [
    "id_cols = [col for col in df.columns if 'typeid' in col or col in ['id', 'parcelid']]\n",
    "df = df.drop(columns=id_cols)"
   ]
  },
  {
   "cell_type": "code",
   "execution_count": 6,
   "id": "a94fcf71",
   "metadata": {
    "scrolled": false
   },
   "outputs": [
    {
     "name": "stdout",
     "output_type": "stream",
     "text": [
      "--- Shape: (43346, 29)\n",
      "\n",
      "--- Info\n",
      "<class 'pandas.core.frame.DataFrame'>\n",
      "Int64Index: 43346 entries, 1 to 52318\n",
      "Data columns (total 29 columns):\n",
      " #   Column                        Non-Null Count  Dtype  \n",
      "---  ------                        --------------  -----  \n",
      " 0   bathroomcnt                   43346 non-null  float64\n",
      " 1   bedroomcnt                    43346 non-null  float64\n",
      " 2   calculatedbathnbr             43337 non-null  float64\n",
      " 3   calculatedfinishedsquarefeet  43346 non-null  float64\n",
      " 4   finishedsquarefeet12          43338 non-null  float64\n",
      " 5   fips                          43346 non-null  float64\n",
      " 6   fullbathcnt                   43337 non-null  float64\n",
      " 7   latitude                      43346 non-null  float64\n",
      " 8   longitude                     43346 non-null  float64\n",
      " 9   lotsizesquarefeet             43084 non-null  float64\n",
      " 10  propertycountylandusecode     43346 non-null  object \n",
      " 11  propertyzoningdesc            32983 non-null  object \n",
      " 12  rawcensustractandblock        43346 non-null  float64\n",
      " 13  regionidcity                  42800 non-null  float64\n",
      " 14  regionidcounty                43346 non-null  float64\n",
      " 15  regionidzip                   43342 non-null  float64\n",
      " 16  roomcnt                       43346 non-null  float64\n",
      " 17  unitcnt                       33019 non-null  float64\n",
      " 18  yearbuilt                     43327 non-null  float64\n",
      " 19  structuretaxvaluedollarcnt    43307 non-null  float64\n",
      " 20  taxvaluedollarcnt             43346 non-null  float64\n",
      " 21  assessmentyear                43346 non-null  float64\n",
      " 22  landtaxvaluedollarcnt         43346 non-null  float64\n",
      " 23  taxamount                     43344 non-null  float64\n",
      " 24  censustractandblock           43304 non-null  float64\n",
      " 25  logerror                      43346 non-null  float64\n",
      " 26  transactiondate               43346 non-null  object \n",
      " 27  heatingorsystemdesc           33561 non-null  object \n",
      " 28  propertylandusedesc           43346 non-null  object \n",
      "dtypes: float64(24), object(5)\n",
      "memory usage: 9.9+ MB\n",
      "\n",
      "--- Column Descriptions\n",
      "         bathroomcnt    bedroomcnt  calculatedbathnbr  \\\n",
      "count   43346.000000  43346.000000       43337.000000   \n",
      "unique           NaN           NaN                NaN   \n",
      "top              NaN           NaN                NaN   \n",
      "freq             NaN           NaN                NaN   \n",
      "mean        2.302554      3.308840           2.303032   \n",
      "std         1.043841      0.937652           1.043422   \n",
      "min         0.000000      0.000000           1.000000   \n",
      "25%         2.000000      3.000000           2.000000   \n",
      "50%         2.000000      3.000000           2.000000   \n",
      "75%         3.000000      4.000000           3.000000   \n",
      "max        18.000000     14.000000          18.000000   \n",
      "\n",
      "        calculatedfinishedsquarefeet  finishedsquarefeet12          fips  \\\n",
      "count                   43346.000000          43338.000000  43346.000000   \n",
      "unique                           NaN                   NaN           NaN   \n",
      "top                              NaN                   NaN           NaN   \n",
      "freq                             NaN                   NaN           NaN   \n",
      "mean                     1929.966248           1929.869237   6047.402805   \n",
      "std                      1031.625850           1031.630746     22.439640   \n",
      "min                       152.000000            152.000000   6037.000000   \n",
      "25%                      1263.000000           1263.000000   6037.000000   \n",
      "50%                      1653.000000           1653.000000   6037.000000   \n",
      "75%                      2305.000000           2305.000000   6037.000000   \n",
      "max                     21929.000000          21929.000000   6111.000000   \n",
      "\n",
      "         fullbathcnt      latitude     longitude  lotsizesquarefeet  ...  \\\n",
      "count   43337.000000  4.334600e+04  4.334600e+04       4.308400e+04  ...   \n",
      "unique           NaN           NaN           NaN                NaN  ...   \n",
      "top              NaN           NaN           NaN                NaN  ...   \n",
      "freq             NaN           NaN           NaN                NaN  ...   \n",
      "mean        2.253755  3.407970e+07 -1.182591e+08       1.093389e+04  ...   \n",
      "std         1.022008  2.545219e+05  3.456509e+05       3.333785e+04  ...   \n",
      "min         1.000000  3.334085e+07 -1.194484e+08       2.360000e+02  ...   \n",
      "25%         2.000000  3.389709e+07 -1.184394e+08       5.777750e+03  ...   \n",
      "50%         2.000000  3.408310e+07 -1.182270e+08       7.001000e+03  ...   \n",
      "75%         3.000000  3.421249e+07 -1.180284e+08       9.180250e+03  ...   \n",
      "max        18.000000  3.481877e+07 -1.175600e+08       2.831752e+06  ...   \n",
      "\n",
      "       structuretaxvaluedollarcnt taxvaluedollarcnt  assessmentyear  \\\n",
      "count                4.330700e+04      4.334600e+04         43346.0   \n",
      "unique                        NaN               NaN             NaN   \n",
      "top                           NaN               NaN             NaN   \n",
      "freq                          NaN               NaN             NaN   \n",
      "mean                 1.991791e+05      5.272409e+05          2016.0   \n",
      "std                  2.616104e+05      7.834896e+05             0.0   \n",
      "min                  1.810000e+02      1.000000e+03          2016.0   \n",
      "25%                  8.109000e+04      1.891480e+05          2016.0   \n",
      "50%                  1.352200e+05      3.629755e+05          2016.0   \n",
      "75%                  2.241680e+05      6.033130e+05          2016.0   \n",
      "max                  9.164901e+06      4.906124e+07          2016.0   \n",
      "\n",
      "        landtaxvaluedollarcnt      taxamount  censustractandblock  \\\n",
      "count            4.334600e+04   43344.000000         4.330400e+04   \n",
      "unique                    NaN            NaN                  NaN   \n",
      "top                       NaN            NaN                  NaN   \n",
      "freq                      NaN            NaN                  NaN   \n",
      "mean             3.282411e+05    6463.699979         6.048733e+13   \n",
      "std              5.943922e+05    9148.665227         2.042748e+12   \n",
      "min              1.610000e+02      49.180000         6.037101e+13   \n",
      "25%              6.915400e+04    2637.255000         6.037295e+13   \n",
      "50%              2.070215e+05    4579.825000         6.037551e+13   \n",
      "75%              3.928922e+05    7271.850000         6.037920e+13   \n",
      "max              4.895220e+07  586639.300000         4.830301e+14   \n",
      "\n",
      "            logerror  transactiondate  heatingorsystemdesc  \\\n",
      "count   43346.000000            43346                33561   \n",
      "unique           NaN              253                    8   \n",
      "top              NaN       2017-06-30              Central   \n",
      "freq             NaN              686                20575   \n",
      "mean        0.015958              NaN                  NaN   \n",
      "std         0.171160              NaN                  NaN   \n",
      "min        -4.655420              NaN                  NaN   \n",
      "25%        -0.026467              NaN                  NaN   \n",
      "50%         0.006346              NaN                  NaN   \n",
      "75%         0.040787              NaN                  NaN   \n",
      "max         5.262999              NaN                  NaN   \n",
      "\n",
      "              propertylandusedesc  \n",
      "count                       43346  \n",
      "unique                          1  \n",
      "top     Single Family Residential  \n",
      "freq                        43346  \n",
      "mean                          NaN  \n",
      "std                           NaN  \n",
      "min                           NaN  \n",
      "25%                           NaN  \n",
      "50%                           NaN  \n",
      "75%                           NaN  \n",
      "max                           NaN  \n",
      "\n",
      "[11 rows x 29 columns]\n"
     ]
    }
   ],
   "source": [
    "wg.overview(df)"
   ]
  },
  {
   "cell_type": "code",
   "execution_count": 7,
   "id": "ad625acf",
   "metadata": {
    "scrolled": true
   },
   "outputs": [
    {
     "name": "stdout",
     "output_type": "stream",
     "text": [
      "--- Shape: (43346, 29)\n",
      "\n",
      "--- Info\n",
      "<class 'pandas.core.frame.DataFrame'>\n",
      "Int64Index: 43346 entries, 1 to 52318\n",
      "Data columns (total 29 columns):\n",
      " #   Column                        Non-Null Count  Dtype  \n",
      "---  ------                        --------------  -----  \n",
      " 0   bathroomcnt                   43346 non-null  float64\n",
      " 1   bedroomcnt                    43346 non-null  float64\n",
      " 2   calculatedbathnbr             43337 non-null  float64\n",
      " 3   calculatedfinishedsquarefeet  43346 non-null  float64\n",
      " 4   finishedsquarefeet12          43338 non-null  float64\n",
      " 5   fips                          43346 non-null  float64\n",
      " 6   fullbathcnt                   43337 non-null  float64\n",
      " 7   latitude                      43346 non-null  float64\n",
      " 8   longitude                     43346 non-null  float64\n",
      " 9   lotsizesquarefeet             43084 non-null  float64\n",
      " 10  propertycountylandusecode     43346 non-null  object \n",
      " 11  propertyzoningdesc            32983 non-null  object \n",
      " 12  rawcensustractandblock        43346 non-null  float64\n",
      " 13  regionidcity                  42800 non-null  float64\n",
      " 14  regionidcounty                43346 non-null  float64\n",
      " 15  regionidzip                   43342 non-null  float64\n",
      " 16  roomcnt                       43346 non-null  float64\n",
      " 17  unitcnt                       33019 non-null  float64\n",
      " 18  yearbuilt                     43327 non-null  float64\n",
      " 19  structuretaxvaluedollarcnt    43307 non-null  float64\n",
      " 20  taxvaluedollarcnt             43346 non-null  float64\n",
      " 21  assessmentyear                43346 non-null  float64\n",
      " 22  landtaxvaluedollarcnt         43346 non-null  float64\n",
      " 23  taxamount                     43344 non-null  float64\n",
      " 24  censustractandblock           43304 non-null  float64\n",
      " 25  logerror                      43346 non-null  float64\n",
      " 26  transactiondate               43346 non-null  object \n",
      " 27  heatingorsystemdesc           33561 non-null  object \n",
      " 28  propertylandusedesc           43346 non-null  object \n",
      "dtypes: float64(24), object(5)\n",
      "memory usage: 9.9+ MB\n",
      "\n",
      "--- Column Descriptions\n",
      "         bathroomcnt    bedroomcnt  calculatedbathnbr  \\\n",
      "count   43346.000000  43346.000000       43337.000000   \n",
      "unique           NaN           NaN                NaN   \n",
      "top              NaN           NaN                NaN   \n",
      "freq             NaN           NaN                NaN   \n",
      "mean        2.302554      3.308840           2.303032   \n",
      "std         1.043841      0.937652           1.043422   \n",
      "min         0.000000      0.000000           1.000000   \n",
      "25%         2.000000      3.000000           2.000000   \n",
      "50%         2.000000      3.000000           2.000000   \n",
      "75%         3.000000      4.000000           3.000000   \n",
      "max        18.000000     14.000000          18.000000   \n",
      "\n",
      "        calculatedfinishedsquarefeet  finishedsquarefeet12          fips  \\\n",
      "count                   43346.000000          43338.000000  43346.000000   \n",
      "unique                           NaN                   NaN           NaN   \n",
      "top                              NaN                   NaN           NaN   \n",
      "freq                             NaN                   NaN           NaN   \n",
      "mean                     1929.966248           1929.869237   6047.402805   \n",
      "std                      1031.625850           1031.630746     22.439640   \n",
      "min                       152.000000            152.000000   6037.000000   \n",
      "25%                      1263.000000           1263.000000   6037.000000   \n",
      "50%                      1653.000000           1653.000000   6037.000000   \n",
      "75%                      2305.000000           2305.000000   6037.000000   \n",
      "max                     21929.000000          21929.000000   6111.000000   \n",
      "\n",
      "         fullbathcnt      latitude     longitude  lotsizesquarefeet  ...  \\\n",
      "count   43337.000000  4.334600e+04  4.334600e+04       4.308400e+04  ...   \n",
      "unique           NaN           NaN           NaN                NaN  ...   \n",
      "top              NaN           NaN           NaN                NaN  ...   \n",
      "freq             NaN           NaN           NaN                NaN  ...   \n",
      "mean        2.253755  3.407970e+07 -1.182591e+08       1.093389e+04  ...   \n",
      "std         1.022008  2.545219e+05  3.456509e+05       3.333785e+04  ...   \n",
      "min         1.000000  3.334085e+07 -1.194484e+08       2.360000e+02  ...   \n",
      "25%         2.000000  3.389709e+07 -1.184394e+08       5.777750e+03  ...   \n",
      "50%         2.000000  3.408310e+07 -1.182270e+08       7.001000e+03  ...   \n",
      "75%         3.000000  3.421249e+07 -1.180284e+08       9.180250e+03  ...   \n",
      "max        18.000000  3.481877e+07 -1.175600e+08       2.831752e+06  ...   \n",
      "\n",
      "       structuretaxvaluedollarcnt taxvaluedollarcnt  assessmentyear  \\\n",
      "count                4.330700e+04      4.334600e+04         43346.0   \n",
      "unique                        NaN               NaN             NaN   \n",
      "top                           NaN               NaN             NaN   \n",
      "freq                          NaN               NaN             NaN   \n",
      "mean                 1.991791e+05      5.272409e+05          2016.0   \n",
      "std                  2.616104e+05      7.834896e+05             0.0   \n",
      "min                  1.810000e+02      1.000000e+03          2016.0   \n",
      "25%                  8.109000e+04      1.891480e+05          2016.0   \n",
      "50%                  1.352200e+05      3.629755e+05          2016.0   \n",
      "75%                  2.241680e+05      6.033130e+05          2016.0   \n",
      "max                  9.164901e+06      4.906124e+07          2016.0   \n",
      "\n",
      "        landtaxvaluedollarcnt      taxamount  censustractandblock  \\\n",
      "count            4.334600e+04   43344.000000         4.330400e+04   \n",
      "unique                    NaN            NaN                  NaN   \n",
      "top                       NaN            NaN                  NaN   \n",
      "freq                      NaN            NaN                  NaN   \n",
      "mean             3.282411e+05    6463.699979         6.048733e+13   \n",
      "std              5.943922e+05    9148.665227         2.042748e+12   \n",
      "min              1.610000e+02      49.180000         6.037101e+13   \n",
      "25%              6.915400e+04    2637.255000         6.037295e+13   \n",
      "50%              2.070215e+05    4579.825000         6.037551e+13   \n",
      "75%              3.928922e+05    7271.850000         6.037920e+13   \n",
      "max              4.895220e+07  586639.300000         4.830301e+14   \n",
      "\n",
      "            logerror  transactiondate  heatingorsystemdesc  \\\n",
      "count   43346.000000            43346                33561   \n",
      "unique           NaN              253                    8   \n",
      "top              NaN       2017-06-30              Central   \n",
      "freq             NaN              686                20575   \n",
      "mean        0.015958              NaN                  NaN   \n",
      "std         0.171160              NaN                  NaN   \n",
      "min        -4.655420              NaN                  NaN   \n",
      "25%        -0.026467              NaN                  NaN   \n",
      "50%         0.006346              NaN                  NaN   \n",
      "75%         0.040787              NaN                  NaN   \n",
      "max         5.262999              NaN                  NaN   \n",
      "\n",
      "              propertylandusedesc  \n",
      "count                       43346  \n",
      "unique                          1  \n",
      "top     Single Family Residential  \n",
      "freq                        43346  \n",
      "mean                          NaN  \n",
      "std                           NaN  \n",
      "min                           NaN  \n",
      "25%                           NaN  \n",
      "50%                           NaN  \n",
      "75%                           NaN  \n",
      "max                           NaN  \n",
      "\n",
      "[11 rows x 29 columns]\n"
     ]
    }
   ],
   "source": [
    "wg.overview(df)"
   ]
  },
  {
   "cell_type": "code",
   "execution_count": 8,
   "id": "2b94f66f",
   "metadata": {},
   "outputs": [],
   "source": [
    "df = df[df.propertylandusedesc == 'Single Family Residential']"
   ]
  },
  {
   "cell_type": "code",
   "execution_count": 9,
   "id": "3c26f6de",
   "metadata": {},
   "outputs": [
    {
     "data": {
      "text/plain": [
       "(43346, 29)"
      ]
     },
     "execution_count": 9,
     "metadata": {},
     "output_type": "execute_result"
    }
   ],
   "source": [
    "df.shape"
   ]
  },
  {
   "cell_type": "code",
   "execution_count": 10,
   "id": "0906d72a",
   "metadata": {},
   "outputs": [
    {
     "name": "stdout",
     "output_type": "stream",
     "text": [
      "<class 'pandas.core.frame.DataFrame'>\n",
      "Int64Index: 43346 entries, 1 to 52318\n",
      "Data columns (total 29 columns):\n",
      " #   Column                        Non-Null Count  Dtype  \n",
      "---  ------                        --------------  -----  \n",
      " 0   bathroomcnt                   43346 non-null  float64\n",
      " 1   bedroomcnt                    43346 non-null  float64\n",
      " 2   calculatedbathnbr             43337 non-null  float64\n",
      " 3   calculatedfinishedsquarefeet  43346 non-null  float64\n",
      " 4   finishedsquarefeet12          43338 non-null  float64\n",
      " 5   fips                          43346 non-null  float64\n",
      " 6   fullbathcnt                   43337 non-null  float64\n",
      " 7   latitude                      43346 non-null  float64\n",
      " 8   longitude                     43346 non-null  float64\n",
      " 9   lotsizesquarefeet             43084 non-null  float64\n",
      " 10  propertycountylandusecode     43346 non-null  object \n",
      " 11  propertyzoningdesc            32983 non-null  object \n",
      " 12  rawcensustractandblock        43346 non-null  float64\n",
      " 13  regionidcity                  42800 non-null  float64\n",
      " 14  regionidcounty                43346 non-null  float64\n",
      " 15  regionidzip                   43342 non-null  float64\n",
      " 16  roomcnt                       43346 non-null  float64\n",
      " 17  unitcnt                       33019 non-null  float64\n",
      " 18  yearbuilt                     43327 non-null  float64\n",
      " 19  structuretaxvaluedollarcnt    43307 non-null  float64\n",
      " 20  taxvaluedollarcnt             43346 non-null  float64\n",
      " 21  assessmentyear                43346 non-null  float64\n",
      " 22  landtaxvaluedollarcnt         43346 non-null  float64\n",
      " 23  taxamount                     43344 non-null  float64\n",
      " 24  censustractandblock           43304 non-null  float64\n",
      " 25  logerror                      43346 non-null  float64\n",
      " 26  transactiondate               43346 non-null  object \n",
      " 27  heatingorsystemdesc           33561 non-null  object \n",
      " 28  propertylandusedesc           43346 non-null  object \n",
      "dtypes: float64(24), object(5)\n",
      "memory usage: 9.9+ MB\n"
     ]
    }
   ],
   "source": [
    "df.info()"
   ]
  },
  {
   "cell_type": "code",
   "execution_count": 13,
   "id": "b2d82648",
   "metadata": {},
   "outputs": [],
   "source": [
    "cols_to_drop = ['calculatedbathnbr',\n",
    "                'finishedsquarefeet12', \n",
    "                'regionidcity',\n",
    "                'landtaxvaluedollarcnt',\n",
    "                'taxamount',\n",
    "                'rawcensustractandblock',\n",
    "                'roomcnt',\n",
    "                'regionidcounty']\n",
    "df = df.drop(columns = cols_to_drop)"
   ]
  },
  {
   "cell_type": "code",
   "execution_count": null,
   "id": "e953408a",
   "metadata": {},
   "outputs": [],
   "source": [
    "df.info()"
   ]
  },
  {
   "cell_type": "code",
   "execution_count": 16,
   "id": "32b8a487",
   "metadata": {},
   "outputs": [
    {
     "name": "stdout",
     "output_type": "stream",
     "text": [
      "<class 'pandas.core.frame.DataFrame'>\n",
      "Int64Index: 43346 entries, 1 to 52318\n",
      "Data columns (total 21 columns):\n",
      " #   Column                        Non-Null Count  Dtype  \n",
      "---  ------                        --------------  -----  \n",
      " 0   bathroomcnt                   43346 non-null  float64\n",
      " 1   bedroomcnt                    43346 non-null  float64\n",
      " 2   calculatedfinishedsquarefeet  43346 non-null  float64\n",
      " 3   fips                          43346 non-null  float64\n",
      " 4   fullbathcnt                   43337 non-null  float64\n",
      " 5   latitude                      43346 non-null  float64\n",
      " 6   longitude                     43346 non-null  float64\n",
      " 7   lotsizesquarefeet             43084 non-null  float64\n",
      " 8   propertycountylandusecode     43346 non-null  object \n",
      " 9   propertyzoningdesc            32983 non-null  object \n",
      " 10  regionidzip                   43342 non-null  float64\n",
      " 11  unitcnt                       33019 non-null  float64\n",
      " 12  yearbuilt                     43327 non-null  float64\n",
      " 13  structuretaxvaluedollarcnt    43307 non-null  float64\n",
      " 14  taxvaluedollarcnt             43346 non-null  float64\n",
      " 15  assessmentyear                43346 non-null  float64\n",
      " 16  censustractandblock           43304 non-null  float64\n",
      " 17  logerror                      43346 non-null  float64\n",
      " 18  transactiondate               43346 non-null  object \n",
      " 19  heatingorsystemdesc           33561 non-null  object \n",
      " 20  propertylandusedesc           43346 non-null  object \n",
      "dtypes: float64(16), object(5)\n",
      "memory usage: 7.3+ MB\n"
     ]
    }
   ],
   "source": [
    "df = wg.handle_missing_values(df, 0.5, 0.5)\n",
    "df.info()"
   ]
  },
  {
   "cell_type": "code",
   "execution_count": 17,
   "id": "3eeec002",
   "metadata": {},
   "outputs": [
    {
     "name": "stdout",
     "output_type": "stream",
     "text": [
      "<class 'pandas.core.series.Series'>\n",
      "Int64Index: 43346 entries, 1 to 52318\n",
      "Series name: heatingorsystemdesc\n",
      "Non-Null Count  Dtype \n",
      "--------------  ----- \n",
      "33561 non-null  object\n",
      "dtypes: object(1)\n",
      "memory usage: 677.3+ KB\n"
     ]
    }
   ],
   "source": [
    "df.heatingorsystemdesc.info()"
   ]
  },
  {
   "cell_type": "code",
   "execution_count": null,
   "id": "1d365512",
   "metadata": {},
   "outputs": [],
   "source": [
    "for col in df.columns:\n",
    "    list(df[col])"
   ]
  },
  {
   "cell_type": "code",
   "execution_count": null,
   "id": "1d9210e3",
   "metadata": {},
   "outputs": [],
   "source": []
  },
  {
   "cell_type": "code",
   "execution_count": null,
   "id": "b685d6d6",
   "metadata": {},
   "outputs": [],
   "source": [
    "\n",
    "sns.boxplot(data=df, x='fips', y='logerror')\n",
    "plt.show()"
   ]
  },
  {
   "cell_type": "code",
   "execution_count": 18,
   "id": "e9af8ca0",
   "metadata": {},
   "outputs": [],
   "source": [
    "def train_validate_test_split(df, test_size=.2, validate_size=.3, random_state=99):\n",
    "    '''\n",
    "    This function takes in a dataframe, then splits that dataframe into three separate samples\n",
    "    called train, test, and validate, for use in machine learning modeling.\n",
    "    Three dataframes are returned in the following order: train, test, validate. \n",
    "    \n",
    "    The function also prints the size of each sample.\n",
    "    '''\n",
    "    # split the dataframe into train and test\n",
    "    train, test = train_test_split(df, test_size=.2, random_state=99)\n",
    "    # further split the train dataframe into train and validate\n",
    "    train, validate = train_test_split(train, test_size=.3, random_state=99)\n",
    "    # print the sample size of each resulting dataframe\n",
    "    print(f'train\\t n = {train.shape[0]}')\n",
    "    print(f'test\\t n = {test.shape[0]}')\n",
    "    print(f'validate n = {validate.shape[0]}')\n",
    "\n",
    "    return train, validate, test"
   ]
  },
  {
   "cell_type": "code",
   "execution_count": null,
   "id": "a3f99ae5",
   "metadata": {},
   "outputs": [],
   "source": [
    "train, validate, test = train_validate_test_split(df)"
   ]
  },
  {
   "cell_type": "code",
   "execution_count": null,
   "id": "4494e168",
   "metadata": {},
   "outputs": [],
   "source": [
    "train_sample = train.sample(n=10000)"
   ]
  },
  {
   "cell_type": "code",
   "execution_count": null,
   "id": "9879255e",
   "metadata": {},
   "outputs": [],
   "source": [
    "import plotly as px"
   ]
  },
  {
   "cell_type": "code",
   "execution_count": null,
   "id": "48e5b5d0",
   "metadata": {},
   "outputs": [],
   "source": [
    "# visualize\n",
    "sns.boxplot(data=train, x='fips', y='logerror')\n",
    "plt.show()"
   ]
  },
  {
   "cell_type": "markdown",
   "id": "9c8eeeda",
   "metadata": {},
   "source": [
    "# Question 1\n",
    "\n",
    "Is log error significantly different for properties in the three counties?\n",
    "\n",
    "Null hypothesis: Log error will be the same across all three counties.\n",
    "Alternative hypothesis: Log error will vary based on county."
   ]
  },
  {
   "cell_type": "code",
   "execution_count": 19,
   "id": "abd0c58c",
   "metadata": {},
   "outputs": [
    {
     "data": {
      "text/plain": [
       "6037.0    33044\n",
       "6059.0     5989\n",
       "6111.0     4313\n",
       "Name: fips, dtype: int64"
      ]
     },
     "execution_count": 19,
     "metadata": {},
     "output_type": "execute_result"
    }
   ],
   "source": [
    "#Look at the distribution of fips in the dataset\n",
    "df['fips'].value_counts()"
   ]
  },
  {
   "cell_type": "code",
   "execution_count": 20,
   "id": "ee774d66",
   "metadata": {},
   "outputs": [],
   "source": [
    "#Create a dictionary mapping the fips values to the counties\n",
    "county_dict = {6037.0: 'LA County', 6059.0: 'Orange County',\n",
    "               6111.0: 'Ventura County'}"
   ]
  },
  {
   "cell_type": "code",
   "execution_count": 21,
   "id": "8060df7d",
   "metadata": {},
   "outputs": [
    {
     "data": {
      "text/html": [
       "<div>\n",
       "<style scoped>\n",
       "    .dataframe tbody tr th:only-of-type {\n",
       "        vertical-align: middle;\n",
       "    }\n",
       "\n",
       "    .dataframe tbody tr th {\n",
       "        vertical-align: top;\n",
       "    }\n",
       "\n",
       "    .dataframe thead th {\n",
       "        text-align: right;\n",
       "    }\n",
       "</style>\n",
       "<table border=\"1\" class=\"dataframe\">\n",
       "  <thead>\n",
       "    <tr style=\"text-align: right;\">\n",
       "      <th></th>\n",
       "      <th>bathroomcnt</th>\n",
       "      <th>bedroomcnt</th>\n",
       "      <th>calculatedfinishedsquarefeet</th>\n",
       "      <th>county</th>\n",
       "      <th>fullbathcnt</th>\n",
       "      <th>latitude</th>\n",
       "      <th>longitude</th>\n",
       "      <th>lotsizesquarefeet</th>\n",
       "      <th>propertycountylandusecode</th>\n",
       "      <th>propertyzoningdesc</th>\n",
       "      <th>...</th>\n",
       "      <th>unitcnt</th>\n",
       "      <th>yearbuilt</th>\n",
       "      <th>structuretaxvaluedollarcnt</th>\n",
       "      <th>taxvaluedollarcnt</th>\n",
       "      <th>assessmentyear</th>\n",
       "      <th>censustractandblock</th>\n",
       "      <th>logerror</th>\n",
       "      <th>transactiondate</th>\n",
       "      <th>heatingorsystemdesc</th>\n",
       "      <th>propertylandusedesc</th>\n",
       "    </tr>\n",
       "  </thead>\n",
       "  <tbody>\n",
       "    <tr>\n",
       "      <th>1</th>\n",
       "      <td>1.0</td>\n",
       "      <td>2.0</td>\n",
       "      <td>1465.0</td>\n",
       "      <td>Ventura County</td>\n",
       "      <td>1.0</td>\n",
       "      <td>34449266.0</td>\n",
       "      <td>-119281531.0</td>\n",
       "      <td>12647.0</td>\n",
       "      <td>1110</td>\n",
       "      <td>NaN</td>\n",
       "      <td>...</td>\n",
       "      <td>NaN</td>\n",
       "      <td>1967.0</td>\n",
       "      <td>88000.0</td>\n",
       "      <td>464000.0</td>\n",
       "      <td>2016.0</td>\n",
       "      <td>6.111001e+13</td>\n",
       "      <td>0.055619</td>\n",
       "      <td>2017-01-01</td>\n",
       "      <td>NaN</td>\n",
       "      <td>Single Family Residential</td>\n",
       "    </tr>\n",
       "    <tr>\n",
       "      <th>2</th>\n",
       "      <td>2.0</td>\n",
       "      <td>3.0</td>\n",
       "      <td>1243.0</td>\n",
       "      <td>Orange County</td>\n",
       "      <td>2.0</td>\n",
       "      <td>33886168.0</td>\n",
       "      <td>-117823170.0</td>\n",
       "      <td>8432.0</td>\n",
       "      <td>122</td>\n",
       "      <td>NaN</td>\n",
       "      <td>...</td>\n",
       "      <td>NaN</td>\n",
       "      <td>1962.0</td>\n",
       "      <td>85289.0</td>\n",
       "      <td>564778.0</td>\n",
       "      <td>2016.0</td>\n",
       "      <td>6.059022e+13</td>\n",
       "      <td>0.005383</td>\n",
       "      <td>2017-01-01</td>\n",
       "      <td>NaN</td>\n",
       "      <td>Single Family Residential</td>\n",
       "    </tr>\n",
       "    <tr>\n",
       "      <th>3</th>\n",
       "      <td>3.0</td>\n",
       "      <td>4.0</td>\n",
       "      <td>2376.0</td>\n",
       "      <td>LA County</td>\n",
       "      <td>3.0</td>\n",
       "      <td>34245180.0</td>\n",
       "      <td>-118240722.0</td>\n",
       "      <td>13038.0</td>\n",
       "      <td>0101</td>\n",
       "      <td>LCR110000*</td>\n",
       "      <td>...</td>\n",
       "      <td>1.0</td>\n",
       "      <td>1970.0</td>\n",
       "      <td>108918.0</td>\n",
       "      <td>145143.0</td>\n",
       "      <td>2016.0</td>\n",
       "      <td>6.037300e+13</td>\n",
       "      <td>-0.103410</td>\n",
       "      <td>2017-01-01</td>\n",
       "      <td>Central</td>\n",
       "      <td>Single Family Residential</td>\n",
       "    </tr>\n",
       "    <tr>\n",
       "      <th>4</th>\n",
       "      <td>3.0</td>\n",
       "      <td>4.0</td>\n",
       "      <td>2962.0</td>\n",
       "      <td>LA County</td>\n",
       "      <td>3.0</td>\n",
       "      <td>34145202.0</td>\n",
       "      <td>-118179824.0</td>\n",
       "      <td>63000.0</td>\n",
       "      <td>0101</td>\n",
       "      <td>PSR2</td>\n",
       "      <td>...</td>\n",
       "      <td>1.0</td>\n",
       "      <td>1950.0</td>\n",
       "      <td>276684.0</td>\n",
       "      <td>773303.0</td>\n",
       "      <td>2016.0</td>\n",
       "      <td>6.037461e+13</td>\n",
       "      <td>-0.001011</td>\n",
       "      <td>2017-01-01</td>\n",
       "      <td>Central</td>\n",
       "      <td>Single Family Residential</td>\n",
       "    </tr>\n",
       "    <tr>\n",
       "      <th>6</th>\n",
       "      <td>3.0</td>\n",
       "      <td>4.0</td>\n",
       "      <td>3039.0</td>\n",
       "      <td>LA County</td>\n",
       "      <td>3.0</td>\n",
       "      <td>33960230.0</td>\n",
       "      <td>-118006914.0</td>\n",
       "      <td>20028.0</td>\n",
       "      <td>0100</td>\n",
       "      <td>WHRE20000*</td>\n",
       "      <td>...</td>\n",
       "      <td>1.0</td>\n",
       "      <td>1970.0</td>\n",
       "      <td>177527.0</td>\n",
       "      <td>220583.0</td>\n",
       "      <td>2016.0</td>\n",
       "      <td>6.037500e+13</td>\n",
       "      <td>-0.040966</td>\n",
       "      <td>2017-01-02</td>\n",
       "      <td>Central</td>\n",
       "      <td>Single Family Residential</td>\n",
       "    </tr>\n",
       "  </tbody>\n",
       "</table>\n",
       "<p>5 rows × 21 columns</p>\n",
       "</div>"
      ],
      "text/plain": [
       "   bathroomcnt  bedroomcnt  calculatedfinishedsquarefeet          county  \\\n",
       "1          1.0         2.0                        1465.0  Ventura County   \n",
       "2          2.0         3.0                        1243.0   Orange County   \n",
       "3          3.0         4.0                        2376.0       LA County   \n",
       "4          3.0         4.0                        2962.0       LA County   \n",
       "6          3.0         4.0                        3039.0       LA County   \n",
       "\n",
       "   fullbathcnt    latitude    longitude  lotsizesquarefeet  \\\n",
       "1          1.0  34449266.0 -119281531.0            12647.0   \n",
       "2          2.0  33886168.0 -117823170.0             8432.0   \n",
       "3          3.0  34245180.0 -118240722.0            13038.0   \n",
       "4          3.0  34145202.0 -118179824.0            63000.0   \n",
       "6          3.0  33960230.0 -118006914.0            20028.0   \n",
       "\n",
       "  propertycountylandusecode propertyzoningdesc  ...  unitcnt  yearbuilt  \\\n",
       "1                      1110                NaN  ...      NaN     1967.0   \n",
       "2                       122                NaN  ...      NaN     1962.0   \n",
       "3                      0101         LCR110000*  ...      1.0     1970.0   \n",
       "4                      0101               PSR2  ...      1.0     1950.0   \n",
       "6                      0100         WHRE20000*  ...      1.0     1970.0   \n",
       "\n",
       "   structuretaxvaluedollarcnt  taxvaluedollarcnt  assessmentyear  \\\n",
       "1                     88000.0           464000.0          2016.0   \n",
       "2                     85289.0           564778.0          2016.0   \n",
       "3                    108918.0           145143.0          2016.0   \n",
       "4                    276684.0           773303.0          2016.0   \n",
       "6                    177527.0           220583.0          2016.0   \n",
       "\n",
       "   censustractandblock  logerror  transactiondate heatingorsystemdesc  \\\n",
       "1         6.111001e+13  0.055619       2017-01-01                 NaN   \n",
       "2         6.059022e+13  0.005383       2017-01-01                 NaN   \n",
       "3         6.037300e+13 -0.103410       2017-01-01             Central   \n",
       "4         6.037461e+13 -0.001011       2017-01-01             Central   \n",
       "6         6.037500e+13 -0.040966       2017-01-02             Central   \n",
       "\n",
       "         propertylandusedesc  \n",
       "1  Single Family Residential  \n",
       "2  Single Family Residential  \n",
       "3  Single Family Residential  \n",
       "4  Single Family Residential  \n",
       "6  Single Family Residential  \n",
       "\n",
       "[5 rows x 21 columns]"
      ]
     },
     "execution_count": 21,
     "metadata": {},
     "output_type": "execute_result"
    }
   ],
   "source": [
    "#Replace the fips numbers with county names\n",
    "df['fips'].replace(county_dict, inplace=True)\n",
    "df.rename(columns={'fips': 'county'}, inplace=True)\n",
    "\n",
    "df.head()"
   ]
  },
  {
   "cell_type": "code",
   "execution_count": 22,
   "id": "901689c5",
   "metadata": {},
   "outputs": [
    {
     "name": "stdout",
     "output_type": "stream",
     "text": [
      "Variance of logerror for LA County.\n",
      "0.028189031378078766\n",
      "Variance of logerror for Orange County.\n",
      "0.03941147277481179\n",
      "Variance of logerror for Ventura County.\n",
      "0.023672885013389756\n"
     ]
    },
    {
     "data": {
      "image/png": "[encoded data removed]",
      "text/plain": [
       "<Figure size 432x288 with 1 Axes>"
      ]
     },
     "metadata": {
      "needs_background": "light"
     },
     "output_type": "display_data"
    },
    {
     "data": {
      "image/png": "[encoded data removed]",
      "text/plain": [
       "<Figure size 432x288 with 1 Axes>"
      ]
     },
     "metadata": {
      "needs_background": "light"
     },
     "output_type": "display_data"
    },
    {
     "data": {
      "image/png": "[encoded data removed]",
      "text/plain": [
       "<Figure size 432x288 with 1 Axes>"
      ]
     },
     "metadata": {
      "needs_background": "light"
     },
     "output_type": "display_data"
    }
   ],
   "source": [
    "#Loop through my counties and plot the distribution of the target variable\n",
    "county_list = ['LA County', 'Orange County', 'Ventura County']\n",
    "\n",
    "for county in county_list:\n",
    "    print('Variance of logerror for {}.'.format(county))\n",
    "    print(df[df['county'] == county].logerror.var())\n",
    "    \n",
    "    plt.figure()\n",
    "    plt.title('Distribution of logerror for {}.'.format(county))\n",
    "    plt.hist(df[df['county'] == county].logerror, bins=25)\n"
   ]
  },
  {
   "cell_type": "code",
   "execution_count": 26,
   "id": "93c0ddd9",
   "metadata": {},
   "outputs": [
    {
     "ename": "AttributeError",
     "evalue": "module 'scipy' has no attribute 'f_oneway'",
     "output_type": "error",
     "traceback": [
      "\u001b[0;31m---------------------------------------------------------------------------\u001b[0m",
      "\u001b[0;31mAttributeError\u001b[0m                            Traceback (most recent call last)",
      "Input \u001b[0;32mIn [26]\u001b[0m, in \u001b[0;36m<cell line: 2>\u001b[0;34m()\u001b[0m\n\u001b[1;32m      1\u001b[0m \u001b[38;5;66;03m#Conduct an ANOVA test between the counties\u001b[39;00m\n\u001b[0;32m----> 2\u001b[0m f_county, p_county \u001b[38;5;241m=\u001b[39m \u001b[43mstats\u001b[49m\u001b[38;5;241;43m.\u001b[39;49m\u001b[43mf_oneway\u001b[49m(df[df[\u001b[38;5;124m'\u001b[39m\u001b[38;5;124mcounty\u001b[39m\u001b[38;5;124m'\u001b[39m] \u001b[38;5;241m==\u001b[39m \u001b[38;5;124m'\u001b[39m\u001b[38;5;124mLA County\u001b[39m\u001b[38;5;124m'\u001b[39m]\u001b[38;5;241m.\u001b[39mlogerror,\n\u001b[1;32m      3\u001b[0m                                     df[df[\u001b[38;5;124m'\u001b[39m\u001b[38;5;124mcounty\u001b[39m\u001b[38;5;124m'\u001b[39m] \u001b[38;5;241m==\u001b[39m \u001b[38;5;124m'\u001b[39m\u001b[38;5;124mOrange County\u001b[39m\u001b[38;5;124m'\u001b[39m]\u001b[38;5;241m.\u001b[39mlogerror,\n\u001b[1;32m      4\u001b[0m                                     df[df[\u001b[38;5;124m'\u001b[39m\u001b[38;5;124mcounty\u001b[39m\u001b[38;5;124m'\u001b[39m] \u001b[38;5;241m==\u001b[39m \u001b[38;5;124m'\u001b[39m\u001b[38;5;124mVentura County\u001b[39m\u001b[38;5;124m'\u001b[39m]\u001b[38;5;241m.\u001b[39mlogerror)\n\u001b[1;32m      6\u001b[0m f_county, p_county\n",
      "\u001b[0;31mAttributeError\u001b[0m: module 'scipy' has no attribute 'f_oneway'"
     ]
    }
   ],
   "source": [
    "#Conduct an ANOVA test between the counties\n",
    "f_county, p_county = stats.f_oneway(df[df['county'] == 'LA County'].logerror,\n",
    "                                    df[df['county'] == 'Orange County'].logerror,\n",
    "                                    df[df['county'] == 'Ventura County'].logerror)\n",
    "\n",
    "f_county, p_county"
   ]
  },
  {
   "cell_type": "code",
   "execution_count": 27,
   "id": "d40b7199",
   "metadata": {},
   "outputs": [
    {
     "ename": "NameError",
     "evalue": "name 'p_county' is not defined",
     "output_type": "error",
     "traceback": [
      "\u001b[0;31m---------------------------------------------------------------------------\u001b[0m",
      "\u001b[0;31mNameError\u001b[0m                                 Traceback (most recent call last)",
      "Input \u001b[0;32mIn [27]\u001b[0m, in \u001b[0;36m<cell line: 2>\u001b[0;34m()\u001b[0m\n\u001b[1;32m      1\u001b[0m \u001b[38;5;66;03m#Compare my p value to alpha\u001b[39;00m\n\u001b[0;32m----> 2\u001b[0m \u001b[38;5;28;01mif\u001b[39;00m \u001b[43mp_county\u001b[49m \u001b[38;5;241m<\u001b[39m alpha:\n\u001b[1;32m      3\u001b[0m     \u001b[38;5;28mprint\u001b[39m(\u001b[38;5;124m'\u001b[39m\u001b[38;5;124mWe reject the null hypothesis.\u001b[39m\u001b[38;5;124m'\u001b[39m)\n\u001b[1;32m      4\u001b[0m \u001b[38;5;28;01melse\u001b[39;00m:\n",
      "\u001b[0;31mNameError\u001b[0m: name 'p_county' is not defined"
     ]
    }
   ],
   "source": [
    "#Compare my p value to alpha\n",
    "if p_county < alpha:\n",
    "    print('We reject the null hypothesis.')\n",
    "else:\n",
    "    print('We fail to reject the null hypothesis.')"
   ]
  },
  {
   "cell_type": "markdown",
   "id": "408e4914",
   "metadata": {},
   "source": [
    "# Question 2\n",
    "\n",
    "What is driving the difference in log error between the counties? Maybe Orange County has homes of all ages, and that makes it difficult to correctly predict the price!\n",
    "\n",
    "Null hypothesis: The average age of homes in Orange County is the same as the overall age of homes in the dataset.\n",
    "Alternative hypothesis: The average age of homes in Orange County is different from the overall mean of the dataset."
   ]
  },
  {
   "cell_type": "code",
   "execution_count": 32,
   "id": "18458b32",
   "metadata": {},
   "outputs": [
    {
     "data": {
      "text/plain": [
       "<AxesSubplot:xlabel='county', ylabel='yearbuilt'>"
      ]
     },
     "execution_count": 32,
     "metadata": {},
     "output_type": "execute_result"
    },
    {
     "data": {
      "image/png": "[encoded data removed]",
      "text/plain": [
       "<Figure size 432x288 with 1 Axes>"
      ]
     },
     "metadata": {
      "needs_background": "light"
     },
     "output_type": "display_data"
    }
   ],
   "source": [
    "age = 2017 - df.yearbuilt\n",
    "\n",
    "#The average age of houses in each county\n",
    "sns.barplot(x='county', y=age, data=df)"
   ]
  },
  {
   "cell_type": "code",
   "execution_count": 33,
   "id": "77994d87",
   "metadata": {},
   "outputs": [
    {
     "ename": "ValueError",
     "evalue": "Could not interpret input 'age'",
     "output_type": "error",
     "traceback": [
      "\u001b[0;31m---------------------------------------------------------------------------\u001b[0m",
      "\u001b[0;31mValueError\u001b[0m                                Traceback (most recent call last)",
      "Input \u001b[0;32mIn [33]\u001b[0m, in \u001b[0;36m<cell line: 2>\u001b[0;34m()\u001b[0m\n\u001b[1;32m      1\u001b[0m \u001b[38;5;66;03m#A better way to visualize the distribution of ages\u001b[39;00m\n\u001b[0;32m----> 2\u001b[0m \u001b[43msns\u001b[49m\u001b[38;5;241;43m.\u001b[39;49m\u001b[43mboxplot\u001b[49m\u001b[43m(\u001b[49m\u001b[43mx\u001b[49m\u001b[38;5;241;43m=\u001b[39;49m\u001b[38;5;124;43m'\u001b[39;49m\u001b[38;5;124;43mcounty\u001b[39;49m\u001b[38;5;124;43m'\u001b[39;49m\u001b[43m,\u001b[49m\u001b[43m \u001b[49m\u001b[43my\u001b[49m\u001b[38;5;241;43m=\u001b[39;49m\u001b[38;5;124;43m'\u001b[39;49m\u001b[38;5;124;43mage\u001b[39;49m\u001b[38;5;124;43m'\u001b[39;49m\u001b[43m,\u001b[49m\u001b[43m \u001b[49m\u001b[43mdata\u001b[49m\u001b[38;5;241;43m=\u001b[39;49m\u001b[43mdf\u001b[49m\u001b[43m)\u001b[49m\n",
      "File \u001b[0;32m/usr/local/anaconda3/lib/python3.9/site-packages/seaborn/_decorators.py:46\u001b[0m, in \u001b[0;36m_deprecate_positional_args.<locals>.inner_f\u001b[0;34m(*args, **kwargs)\u001b[0m\n\u001b[1;32m     36\u001b[0m     warnings\u001b[38;5;241m.\u001b[39mwarn(\n\u001b[1;32m     37\u001b[0m         \u001b[38;5;124m\"\u001b[39m\u001b[38;5;124mPass the following variable\u001b[39m\u001b[38;5;132;01m{}\u001b[39;00m\u001b[38;5;124m as \u001b[39m\u001b[38;5;132;01m{}\u001b[39;00m\u001b[38;5;124mkeyword arg\u001b[39m\u001b[38;5;132;01m{}\u001b[39;00m\u001b[38;5;124m: \u001b[39m\u001b[38;5;132;01m{}\u001b[39;00m\u001b[38;5;124m. \u001b[39m\u001b[38;5;124m\"\u001b[39m\n\u001b[1;32m     38\u001b[0m         \u001b[38;5;124m\"\u001b[39m\u001b[38;5;124mFrom version 0.12, the only valid positional argument \u001b[39m\u001b[38;5;124m\"\u001b[39m\n\u001b[0;32m   (...)\u001b[0m\n\u001b[1;32m     43\u001b[0m         \u001b[38;5;167;01mFutureWarning\u001b[39;00m\n\u001b[1;32m     44\u001b[0m     )\n\u001b[1;32m     45\u001b[0m kwargs\u001b[38;5;241m.\u001b[39mupdate({k: arg \u001b[38;5;28;01mfor\u001b[39;00m k, arg \u001b[38;5;129;01min\u001b[39;00m \u001b[38;5;28mzip\u001b[39m(sig\u001b[38;5;241m.\u001b[39mparameters, args)})\n\u001b[0;32m---> 46\u001b[0m \u001b[38;5;28;01mreturn\u001b[39;00m \u001b[43mf\u001b[49m\u001b[43m(\u001b[49m\u001b[38;5;241;43m*\u001b[39;49m\u001b[38;5;241;43m*\u001b[39;49m\u001b[43mkwargs\u001b[49m\u001b[43m)\u001b[49m\n",
      "File \u001b[0;32m/usr/local/anaconda3/lib/python3.9/site-packages/seaborn/categorical.py:2243\u001b[0m, in \u001b[0;36mboxplot\u001b[0;34m(x, y, hue, data, order, hue_order, orient, color, palette, saturation, width, dodge, fliersize, linewidth, whis, ax, **kwargs)\u001b[0m\n\u001b[1;32m   2231\u001b[0m \u001b[38;5;129m@_deprecate_positional_args\u001b[39m\n\u001b[1;32m   2232\u001b[0m \u001b[38;5;28;01mdef\u001b[39;00m \u001b[38;5;21mboxplot\u001b[39m(\n\u001b[1;32m   2233\u001b[0m     \u001b[38;5;241m*\u001b[39m,\n\u001b[0;32m   (...)\u001b[0m\n\u001b[1;32m   2240\u001b[0m     \u001b[38;5;241m*\u001b[39m\u001b[38;5;241m*\u001b[39mkwargs\n\u001b[1;32m   2241\u001b[0m ):\n\u001b[0;32m-> 2243\u001b[0m     plotter \u001b[38;5;241m=\u001b[39m \u001b[43m_BoxPlotter\u001b[49m\u001b[43m(\u001b[49m\u001b[43mx\u001b[49m\u001b[43m,\u001b[49m\u001b[43m \u001b[49m\u001b[43my\u001b[49m\u001b[43m,\u001b[49m\u001b[43m \u001b[49m\u001b[43mhue\u001b[49m\u001b[43m,\u001b[49m\u001b[43m \u001b[49m\u001b[43mdata\u001b[49m\u001b[43m,\u001b[49m\u001b[43m \u001b[49m\u001b[43morder\u001b[49m\u001b[43m,\u001b[49m\u001b[43m \u001b[49m\u001b[43mhue_order\u001b[49m\u001b[43m,\u001b[49m\n\u001b[1;32m   2244\u001b[0m \u001b[43m                          \u001b[49m\u001b[43morient\u001b[49m\u001b[43m,\u001b[49m\u001b[43m \u001b[49m\u001b[43mcolor\u001b[49m\u001b[43m,\u001b[49m\u001b[43m \u001b[49m\u001b[43mpalette\u001b[49m\u001b[43m,\u001b[49m\u001b[43m \u001b[49m\u001b[43msaturation\u001b[49m\u001b[43m,\u001b[49m\n\u001b[1;32m   2245\u001b[0m \u001b[43m                          \u001b[49m\u001b[43mwidth\u001b[49m\u001b[43m,\u001b[49m\u001b[43m \u001b[49m\u001b[43mdodge\u001b[49m\u001b[43m,\u001b[49m\u001b[43m \u001b[49m\u001b[43mfliersize\u001b[49m\u001b[43m,\u001b[49m\u001b[43m \u001b[49m\u001b[43mlinewidth\u001b[49m\u001b[43m)\u001b[49m\n\u001b[1;32m   2247\u001b[0m     \u001b[38;5;28;01mif\u001b[39;00m ax \u001b[38;5;129;01mis\u001b[39;00m \u001b[38;5;28;01mNone\u001b[39;00m:\n\u001b[1;32m   2248\u001b[0m         ax \u001b[38;5;241m=\u001b[39m plt\u001b[38;5;241m.\u001b[39mgca()\n",
      "File \u001b[0;32m/usr/local/anaconda3/lib/python3.9/site-packages/seaborn/categorical.py:406\u001b[0m, in \u001b[0;36m_BoxPlotter.__init__\u001b[0;34m(self, x, y, hue, data, order, hue_order, orient, color, palette, saturation, width, dodge, fliersize, linewidth)\u001b[0m\n\u001b[1;32m    402\u001b[0m \u001b[38;5;28;01mdef\u001b[39;00m \u001b[38;5;21m__init__\u001b[39m(\u001b[38;5;28mself\u001b[39m, x, y, hue, data, order, hue_order,\n\u001b[1;32m    403\u001b[0m              orient, color, palette, saturation,\n\u001b[1;32m    404\u001b[0m              width, dodge, fliersize, linewidth):\n\u001b[0;32m--> 406\u001b[0m     \u001b[38;5;28;43mself\u001b[39;49m\u001b[38;5;241;43m.\u001b[39;49m\u001b[43mestablish_variables\u001b[49m\u001b[43m(\u001b[49m\u001b[43mx\u001b[49m\u001b[43m,\u001b[49m\u001b[43m \u001b[49m\u001b[43my\u001b[49m\u001b[43m,\u001b[49m\u001b[43m \u001b[49m\u001b[43mhue\u001b[49m\u001b[43m,\u001b[49m\u001b[43m \u001b[49m\u001b[43mdata\u001b[49m\u001b[43m,\u001b[49m\u001b[43m \u001b[49m\u001b[43morient\u001b[49m\u001b[43m,\u001b[49m\u001b[43m \u001b[49m\u001b[43morder\u001b[49m\u001b[43m,\u001b[49m\u001b[43m \u001b[49m\u001b[43mhue_order\u001b[49m\u001b[43m)\u001b[49m\n\u001b[1;32m    407\u001b[0m     \u001b[38;5;28mself\u001b[39m\u001b[38;5;241m.\u001b[39mestablish_colors(color, palette, saturation)\n\u001b[1;32m    409\u001b[0m     \u001b[38;5;28mself\u001b[39m\u001b[38;5;241m.\u001b[39mdodge \u001b[38;5;241m=\u001b[39m dodge\n",
      "File \u001b[0;32m/usr/local/anaconda3/lib/python3.9/site-packages/seaborn/categorical.py:153\u001b[0m, in \u001b[0;36m_CategoricalPlotter.establish_variables\u001b[0;34m(self, x, y, hue, data, orient, order, hue_order, units)\u001b[0m\n\u001b[1;32m    151\u001b[0m     \u001b[38;5;28;01mif\u001b[39;00m \u001b[38;5;28misinstance\u001b[39m(var, \u001b[38;5;28mstr\u001b[39m):\n\u001b[1;32m    152\u001b[0m         err \u001b[38;5;241m=\u001b[39m \u001b[38;5;124m\"\u001b[39m\u001b[38;5;124mCould not interpret input \u001b[39m\u001b[38;5;124m'\u001b[39m\u001b[38;5;132;01m{}\u001b[39;00m\u001b[38;5;124m'\u001b[39m\u001b[38;5;124m\"\u001b[39m\u001b[38;5;241m.\u001b[39mformat(var)\n\u001b[0;32m--> 153\u001b[0m         \u001b[38;5;28;01mraise\u001b[39;00m \u001b[38;5;167;01mValueError\u001b[39;00m(err)\n\u001b[1;32m    155\u001b[0m \u001b[38;5;66;03m# Figure out the plotting orientation\u001b[39;00m\n\u001b[1;32m    156\u001b[0m orient \u001b[38;5;241m=\u001b[39m infer_orient(\n\u001b[1;32m    157\u001b[0m     x, y, orient, require_numeric\u001b[38;5;241m=\u001b[39m\u001b[38;5;28mself\u001b[39m\u001b[38;5;241m.\u001b[39mrequire_numeric\n\u001b[1;32m    158\u001b[0m )\n",
      "\u001b[0;31mValueError\u001b[0m: Could not interpret input 'age'"
     ]
    }
   ],
   "source": [
    "#A better way to visualize the distribution of ages\n",
    "sns.boxplot(x='county', y='age', data=df)"
   ]
  },
  {
   "cell_type": "code",
   "execution_count": null,
   "id": "c248527a",
   "metadata": {},
   "outputs": [],
   "source": [
    "print(df[df['county'] == 'Orange County'].age.var())\n",
    "print(df['age'].var())"
   ]
  }
 ],
 "metadata": {
  "kernelspec": {
   "display_name": "Python 3 (ipykernel)",
   "language": "python",
   "name": "python3"
  },
  "language_info": {
   "codemirror_mode": {
    "name": "ipython",
    "version": 3
   },
   "file_extension": ".py",
   "mimetype": "text/x-python",
   "name": "python",
   "nbconvert_exporter": "python",
   "pygments_lexer": "ipython3",
   "version": "3.9.12"
  }
 },
 "nbformat": 4,
 "nbformat_minor": 5
}
